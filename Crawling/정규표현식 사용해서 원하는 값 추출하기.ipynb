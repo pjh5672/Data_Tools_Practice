{
 "cells": [
  {
   "cell_type": "code",
   "execution_count": 2,
   "metadata": {},
   "outputs": [],
   "source": [
    "import re\n",
    "import requests\n",
    "from bs4 import BeautifulSoup"
   ]
  },
  {
   "cell_type": "code",
   "execution_count": 3,
   "metadata": {},
   "outputs": [],
   "source": [
    "url = 'https://news.v.daum.net/v/20190728165812603'\n",
    "resp = requests.get(url)\n",
    "soup = BeautifulSoup(resp.text)"
   ]
  },
  {
   "cell_type": "markdown",
   "metadata": {},
   "source": [
    "정규표현식으로 tag 찾기"
   ]
  },
  {
   "cell_type": "code",
   "execution_count": 9,
   "metadata": {},
   "outputs": [
    {
     "data": {
      "text/plain": [
       "[<h1> <a class=\"link_daum\" href=\"https://www.daum.net\"> <img alt=\"Daum\" class=\"thumb_g\" height=\"19\" src=\"//t1.daumcdn.net/media/news/news2016/retina/logo_daum.jpg\" width=\"45\"/> </a> <a href=\"https://news.daum.net\" id=\"kakaoServiceLogo\"><span class=\"ir_wa\">뉴스</span></a> </h1>,\n",
       " <h2 class=\"screen_out\">검색</h2>,\n",
       " <h2 class=\"screen_out\">뉴스 메인메뉴</h2>,\n",
       " <h2 class=\"screen_out\" id=\"kakaoBody\">IT</h2>,\n",
       " <h3 class=\"tit_view\" data-translation=\"true\">일론머스크 \"테슬라에서 넷플릭스·유튜브 즐길 날 온다\"</h3>,\n",
       " <h3 class=\"txt_newsview\">많이본 뉴스</h3>,\n",
       " <h3 class=\"txt_newsview\">포토&amp;TV</h3>,\n",
       " <h3 class=\"txt_newsview\">실시간 주요이슈</h3>,\n",
       " <h2 class=\"tit_direct\">바로가기</h2>,\n",
       " <h2 class=\"screen_out\">서비스 이용정보</h2>]"
      ]
     },
     "execution_count": 9,
     "metadata": {},
     "output_type": "execute_result"
    }
   ],
   "source": [
    "soup.find_all(re.compile('h\\d')) # re.compile() 을 전달하고 \\d 는 어떤 숫자 한개를 의미함"
   ]
  },
  {
   "cell_type": "code",
   "execution_count": 14,
   "metadata": {},
   "outputs": [
    {
     "data": {
      "text/plain": [
       "[<img alt=\"Daum\" class=\"thumb_g\" height=\"19\" src=\"//t1.daumcdn.net/media/news/news2016/retina/logo_daum.jpg\" width=\"45\"/>,\n",
       " <img alt=\"아시아경제\" class=\"thumb_g\" src=\"https://t1.daumcdn.net/media/news/news2016/cp/cp_akn.gif\"/>,\n",
       " <img alt=\"일론 머스크 테슬라 최고경영자(CEO) [이미지출처=로이터연합뉴스]\" class=\"thumb_g_article\" data-org-src=\"https://t1.daumcdn.net/news/201907/28/akn/20190728165813230vjsq.jpg\" data-org-width=\"550\" dmcf-mid=\"NBMY3ZZhN4\" dmcf-mtype=\"image\" height=\"auto\" src=\"https://img1.daumcdn.net/thumb/R658x0.q70/?fname=https://t1.daumcdn.net/news/201907/28/akn/20190728165813230vjsq.jpg\" width=\"658\"/>,\n",
       " <img alt=\"(출처=일론 머스크 트위터 계정 캡쳐)\" class=\"thumb_g_article\" data-org-src=\"https://t1.daumcdn.net/news/201907/28/akn/20190728165813670hwxf.png\" data-org-width=\"550\" dmcf-mid=\"NRhnb5SRpx\" dmcf-mtype=\"image\" height=\"auto\" src=\"https://img3.daumcdn.net/thumb/R658x0.q70/?fname=https://t1.daumcdn.net/news/201907/28/akn/20190728165813670hwxf.png\" width=\"658\"/>]"
      ]
     },
     "execution_count": 14,
     "metadata": {},
     "output_type": "execute_result"
    }
   ],
   "source": [
    "soup.find_all('img')"
   ]
  },
  {
   "cell_type": "code",
   "execution_count": 15,
   "metadata": {},
   "outputs": [
    {
     "data": {
      "text/plain": [
       "[<img alt=\"Daum\" class=\"thumb_g\" height=\"19\" src=\"//t1.daumcdn.net/media/news/news2016/retina/logo_daum.jpg\" width=\"45\"/>,\n",
       " <img alt=\"일론 머스크 테슬라 최고경영자(CEO) [이미지출처=로이터연합뉴스]\" class=\"thumb_g_article\" data-org-src=\"https://t1.daumcdn.net/news/201907/28/akn/20190728165813230vjsq.jpg\" data-org-width=\"550\" dmcf-mid=\"NBMY3ZZhN4\" dmcf-mtype=\"image\" height=\"auto\" src=\"https://img1.daumcdn.net/thumb/R658x0.q70/?fname=https://t1.daumcdn.net/news/201907/28/akn/20190728165813230vjsq.jpg\" width=\"658\"/>]"
      ]
     },
     "execution_count": 15,
     "metadata": {},
     "output_type": "execute_result"
    }
   ],
   "source": [
    "soup.find_all('img', attrs={'src': re.compile('.+\\.jpg')}) # jpg 확장자 파일만 가져오기"
   ]
  },
  {
   "cell_type": "code",
   "execution_count": 16,
   "metadata": {},
   "outputs": [
    {
     "data": {
      "text/plain": [
       "[<img alt=\"(출처=일론 머스크 트위터 계정 캡쳐)\" class=\"thumb_g_article\" data-org-src=\"https://t1.daumcdn.net/news/201907/28/akn/20190728165813670hwxf.png\" data-org-width=\"550\" dmcf-mid=\"NRhnb5SRpx\" dmcf-mtype=\"image\" height=\"auto\" src=\"https://img3.daumcdn.net/thumb/R658x0.q70/?fname=https://t1.daumcdn.net/news/201907/28/akn/20190728165813670hwxf.png\" width=\"658\"/>]"
      ]
     },
     "execution_count": 16,
     "metadata": {},
     "output_type": "execute_result"
    }
   ],
   "source": [
    "soup.find_all('img', attrs={'src': re.compile('.+\\.png')}) # png 확장자 파일만 가져오기"
   ]
  },
  {
   "cell_type": "code",
   "execution_count": 22,
   "metadata": {},
   "outputs": [
    {
     "data": {
      "text/plain": [
       "[<h3 class=\"tit_view\" data-translation=\"true\">일론머스크 \"테슬라에서 넷플릭스·유튜브 즐길 날 온다\"</h3>,\n",
       " <h3 class=\"txt_newsview\">많이본 뉴스</h3>,\n",
       " <h3 class=\"txt_newsview\">포토&amp;TV</h3>,\n",
       " <h3 class=\"txt_newsview\">실시간 주요이슈</h3>]"
      ]
     },
     "execution_count": 22,
     "metadata": {},
     "output_type": "execute_result"
    }
   ],
   "source": [
    "soup.find_all('h3', class_=re.compile('.+view$'))"
   ]
  },
  {
   "cell_type": "code",
   "execution_count": 21,
   "metadata": {},
   "outputs": [
    {
     "data": {
      "text/plain": [
       "[<h3 class=\"txt_newsview\">많이본 뉴스</h3>,\n",
       " <h3 class=\"txt_newsview\">포토&amp;TV</h3>,\n",
       " <h3 class=\"txt_newsview\">실시간 주요이슈</h3>]"
      ]
     },
     "execution_count": 21,
     "metadata": {},
     "output_type": "execute_result"
    }
   ],
   "source": [
    "soup.find_all('h3', class_=re.compile('.+newsview$'))"
   ]
  },
  {
   "cell_type": "code",
   "execution_count": null,
   "metadata": {},
   "outputs": [],
   "source": []
  }
 ],
 "metadata": {
  "kernelspec": {
   "display_name": "Python 3",
   "language": "python",
   "name": "python3"
  },
  "language_info": {
   "codemirror_mode": {
    "name": "ipython",
    "version": 3
   },
   "file_extension": ".py",
   "mimetype": "text/x-python",
   "name": "python",
   "nbconvert_exporter": "python",
   "pygments_lexer": "ipython3",
   "version": "3.7.0"
  }
 },
 "nbformat": 4,
 "nbformat_minor": 4
}
